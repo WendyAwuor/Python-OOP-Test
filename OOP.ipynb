{
 "cells": [
  {
   "cell_type": "markdown",
   "id": "e36a8a2f",
   "metadata": {},
   "source": [
    "SECTION ONE"
   ]
  },
  {
   "cell_type": "code",
   "execution_count": null,
   "id": "64d7b3ba",
   "metadata": {},
   "outputs": [
    {
     "name": "stdout",
     "output_type": "stream",
     "text": [
      "Total cars created: 4\n",
      "True\n"
     ]
    }
   ],
   "source": [
    "class Car:\n",
    "    total_cars = 0  # Class variable to track total cars\n",
    "    \n",
    "    def __init__(self, brand, model, year):\n",
    "        self.brand = brand\n",
    "        self.model = model\n",
    "        self.year = year\n",
    "        self.features = []\n",
    "        Car.total_cars += 1\n",
    "    \n",
    "    def get_description(self):\n",
    "        return f\"{self.year} {self.brand} {self.model}\"\n",
    "    \n",
    "    def has_feature(self, feature):\n",
    "        return feature in self.features\n",
    "\n",
    "# Create instance for Toyota Corolla\n",
    "toyota = Car(\"Toyota\", \"Corolla\", 2020)\n",
    "\n",
    "# Create 3 instances and display count\n",
    "car1 = Car(\"Honda\", \"Civic\", 2019)\n",
    "car2 = Car(\"Ford\", \"Mustang\", 2021)\n",
    "car3 = Car(\"Tesla\", \"Model 2\", 2022)\n",
    "print(f\"Total cars created: {Car.total_cars}\")\n",
    "\n",
    "# Add features\n",
    "toyota.features = [\"GPS\", \"Backup Camera\"]\n",
    "print(toyota.has_feature(\"GPS\"))"
   ]
  },
  {
   "cell_type": "code",
   "execution_count": 34,
   "id": "8f2cc6be",
   "metadata": {},
   "outputs": [
    {
     "name": "stdout",
     "output_type": "stream",
     "text": [
      "2020 Toyota Corolla\n"
     ]
    }
   ],
   "source": [
    "class Garage(Car):\n",
    "    def __init__(self):\n",
    "        self.cars = []\n",
    "\n",
    "    def add_car(self, car):\n",
    "        self.cars.append(car)\n",
    "\n",
    "    def get_cars_by_brand(self, brand):\n",
    "        return [car for car in self.cars if car.brand == brand]\n",
    "\n",
    "# Get and print cars by brand\n",
    "for car in garage.get_cars_by_brand(\"Toyota\"):\n",
    "    print(car.get_description())\n"
   ]
  },
  {
   "cell_type": "markdown",
   "id": "72e6d804",
   "metadata": {},
   "source": [
    "SECTION B"
   ]
  },
  {
   "cell_type": "code",
   "execution_count": 9,
   "id": "9726880e",
   "metadata": {},
   "outputs": [],
   "source": [
    "class Animal:\n",
    "    def __init__(self, name, species):\n",
    "        self.name = name\n",
    "        self.species = species\n",
    "\n",
    "    def make_sound(self):\n",
    "        print(\"f{self.name} makes a sound\")\n"
   ]
  },
  {
   "cell_type": "code",
   "execution_count": 10,
   "id": "5dd0a916",
   "metadata": {},
   "outputs": [],
   "source": [
    "class Dog(Animal):\n",
    "    def __init__(self, name, breed):\n",
    "        super().__init__(name, \"Dog\")\n",
    "        self.breed = breed\n",
    "\n",
    "    def make_sound(self):\n",
    "        print(\"Woof!\")\n"
   ]
  },
  {
   "cell_type": "code",
   "execution_count": 11,
   "id": "b640c1cd",
   "metadata": {},
   "outputs": [],
   "source": [
    "class Cat(Animal):\n",
    "    def __init__(self, name, color):\n",
    "        super().__init__(name, \"Cat\")\n",
    "        self.color = color\n",
    "\n",
    "    def purr(self):\n",
    "        print(\"Purr...\")\n"
   ]
  },
  {
   "cell_type": "code",
   "execution_count": 15,
   "id": "85ba2faa",
   "metadata": {},
   "outputs": [
    {
     "name": "stdout",
     "output_type": "stream",
     "text": [
      "Woof!\n",
      "f{self.name} makes a sound\n",
      "Woof!\n",
      "f{self.name} makes a sound\n"
     ]
    }
   ],
   "source": [
    "animals = [\n",
    "    Dog(\"Buddy\", \"Labrador\"),\n",
    "    Cat(\"Whiskers\", \"Black\"),\n",
    "    Dog(\"Rex\", \"German Shepherd\"),\n",
    "    Cat(\"Luna\", \"White\"),\n",
    "]\n",
    "\n",
    "for animal in animals:\n",
    "    animal.make_sound()\n"
   ]
  },
  {
   "cell_type": "code",
   "execution_count": 16,
   "id": "28b577fc",
   "metadata": {},
   "outputs": [
    {
     "name": "stdout",
     "output_type": "stream",
     "text": [
      "{'Dog': 2, 'Cat': 2}\n"
     ]
    }
   ],
   "source": [
    "def count_species(animals):\n",
    "    species_count = {}\n",
    "    for animal in animals:\n",
    "        species = animal.species\n",
    "        species_count[species] = species_count.get(species, 0) + 1\n",
    "    return species_count\n",
    "\n",
    "# Test it\n",
    "print(count_species(animals))\n",
    "# Output: {'Dog': 2, 'Cat': 2, 'Unknown': 1}\n"
   ]
  },
  {
   "cell_type": "code",
   "execution_count": 17,
   "id": "4d3e72b0",
   "metadata": {},
   "outputs": [],
   "source": [
    "class Recipe:\n",
    "    def __init__(self, name, created_date):\n",
    "        self.name = name\n",
    "        self.ingredients = {}  # Dictionary to store ingredient: quantity\n",
    "        self.created_date = created_date  # Tuple (day, month, year)\n",
    "\n",
    "    def add_ingredient(self, name, qty):\n",
    "        if name in self.ingredients:\n",
    "            self.ingredients[name] += qty\n",
    "        else:\n",
    "            self.ingredients[name] = qty\n",
    "\n",
    "    def total_ingredients(self):\n",
    "        return len(self.ingredients)\n"
   ]
  },
  {
   "cell_type": "code",
   "execution_count": 18,
   "id": "e066efba",
   "metadata": {},
   "outputs": [],
   "source": [
    "class Cookbook:\n",
    "    def __init__(self):\n",
    "        self.recipes = []\n",
    "        self.recipe_names = set()  # Set of unique recipe names\n",
    "\n",
    "    def add_recipe(self, recipe):\n",
    "        self.recipes.append(recipe)\n",
    "        self.recipe_names.add(recipe.name)\n",
    "\n",
    "    def list_all_ingredients(self):\n",
    "        all_ingredients = {}\n",
    "        for recipe in self.recipes:\n",
    "            for ingredient, qty in recipe.ingredients.items():\n",
    "                if ingredient in all_ingredients:\n",
    "                    all_ingredients[ingredient] += qty\n",
    "                else:\n",
    "                    all_ingredients[ingredient] = qty\n",
    "        return all_ingredients\n"
   ]
  },
  {
   "cell_type": "code",
   "execution_count": 40,
   "id": "7b790a04",
   "metadata": {},
   "outputs": [
    {
     "name": "stdout",
     "output_type": "stream",
     "text": [
      "Total ingredients in Pancakes: 3\n",
      "Total ingredients in Omelette: 3\n",
      "All ingredients across recipes: {'Flour': 2, 'Milk': 1, 'Eggs': 5, 'Tomatoes': 1, 'Onions': 1}\n",
      "Unique recipe names: {'Omelette', 'Pancakes'}\n"
     ]
    }
   ],
   "source": [
    "# Create some recipes\n",
    "r1 = Recipe(\"Pancakes\", (9, 6, 2025))\n",
    "r1.add_ingredient(\"Flour\", 2)\n",
    "r1.add_ingredient(\"Milk\", 1)\n",
    "r1.add_ingredient(\"Eggs\", 3)\n",
    "\n",
    "r2 = Recipe(\"Omelette\", (9, 6, 2025))\n",
    "r2.add_ingredient(\"Eggs\", 2)\n",
    "r2.add_ingredient(\"Tomatoes\", 1)\n",
    "r2.add_ingredient(\"Onions\", 1)\n",
    "\n",
    "# Add to cookbook\n",
    "book = Cookbook()\n",
    "book.add_recipe(r1)\n",
    "book.add_recipe(r2)\n",
    "\n",
    "print(\"Total ingredients in Pancakes:\", r1.total_ingredients())  \n",
    "print(\"Total ingredients in Omelette:\", r2.total_ingredients())  \n",
    "\n",
    "print(\"All ingredients across recipes:\", book.list_all_ingredients())\n",
    "\n",
    "print(\"Unique recipe names:\", book.recipe_names)\n",
    "\n"
   ]
  },
  {
   "cell_type": "markdown",
   "id": "672988b1",
   "metadata": {},
   "source": [
    "SECTION D"
   ]
  },
  {
   "cell_type": "code",
   "execution_count": 22,
   "id": "11625ffa",
   "metadata": {},
   "outputs": [],
   "source": [
    "class Account:\n",
    "    def __init__(self):\n",
    "        self.balance = 0\n",
    "\n",
    "    def deposit(self, amount):\n",
    "        self.balance += amount\n",
    "\n",
    "    def withdraw(self, amount):\n",
    "        if amount <= self.balance:\n",
    "            self.balance -= amount\n",
    "        else:\n",
    "            print(\"Insufficient funds\")\n",
    "\n",
    "    def get_balance(self):\n",
    "        return self.balance\n"
   ]
  },
  {
   "cell_type": "code",
   "execution_count": 23,
   "id": "a087b407",
   "metadata": {},
   "outputs": [
    {
     "name": "stdout",
     "output_type": "stream",
     "text": [
      "Final balance: 300\n"
     ]
    }
   ],
   "source": [
    "account = Account()\n",
    "\n",
    "# Simulate 4 deposits\n",
    "for _ in range(4):\n",
    "    account.deposit(100)\n",
    "\n",
    "# Simulate 2 withdrawals\n",
    "for _ in range(2):\n",
    "    account.withdraw(50)\n",
    "\n",
    "print(\"Final balance:\", account.get_balance())  # Should be 300\n"
   ]
  },
  {
   "cell_type": "code",
   "execution_count": 24,
   "id": "92a399fa",
   "metadata": {},
   "outputs": [],
   "source": [
    "class Inventory:\n",
    "    def __init__(self):\n",
    "        self.items = {}\n",
    "\n",
    "    def add_item(self, name, qty):\n",
    "        if name in self.items:\n",
    "            self.items[name] += qty\n",
    "        else:\n",
    "            self.items[name] = qty\n",
    "\n",
    "    def remove_item(self, name):\n",
    "        if name in self.items:\n",
    "            del self.items[name]\n",
    "\n",
    "    def get_total_items(self):\n",
    "        return len(self.items)\n"
   ]
  },
  {
   "cell_type": "code",
   "execution_count": null,
   "id": "b673462a",
   "metadata": {},
   "outputs": [],
   "source": [
    "def print_items(self):\n",
    "    for name, qty in self.items.items():\n",
    "        print(f\"{name}: {qty}\")\n"
   ]
  },
  {
   "cell_type": "code",
   "execution_count": null,
   "id": "6c93a3a0",
   "metadata": {},
   "outputs": [],
   "source": [
    "def items_above_five(self):\n",
    "    return [name for name, qty in self.items.items() if qty > 5]"
   ]
  },
  {
   "cell_type": "code",
   "execution_count": null,
   "id": "fe256377",
   "metadata": {},
   "outputs": [],
   "source": [
    "def has_item(self, name):\n",
    "    return name in self.items"
   ]
  },
  {
   "cell_type": "code",
   "execution_count": 39,
   "id": "0eaf6fe1",
   "metadata": {},
   "outputs": [],
   "source": [
    "def ingredients_above_two(self):\n",
    "    return {name: qty for name, qty in self.ingredients.items() if qty > 2}\n"
   ]
  },
  {
   "cell_type": "code",
   "execution_count": null,
   "id": "a7969425",
   "metadata": {},
   "outputs": [],
   "source": [
    "class Club:\n",
    "    def __init__(self):\n",
    "        self.members = []\n",
    "\n",
    "    def register_members(self, *names):\n",
    "        for name in names:\n",
    "            self.members.append(name)\n"
   ]
  },
  {
   "cell_type": "code",
   "execution_count": 35,
   "id": "f1e98dc7",
   "metadata": {},
   "outputs": [],
   "source": [
    "def shortest_name(self):\n",
    "        if not self.members:\n",
    "            return None\n",
    "        shortest = self.members[0]\n",
    "        for name in self.members:\n",
    "            if len(name) < len(shortest):\n",
    "                shortest = name\n",
    "        return shortest\n"
   ]
  },
  {
   "cell_type": "code",
   "execution_count": 36,
   "id": "573830a6",
   "metadata": {},
   "outputs": [],
   "source": [
    "def names_starting_with_A(self):\n",
    "    return [name for name in self.members if name.startswith(\"A\")]\n"
   ]
  },
  {
   "cell_type": "code",
   "execution_count": 38,
   "id": "86d69065",
   "metadata": {},
   "outputs": [],
   "source": [
    "def countdown(self):\n",
    "    num = 5\n",
    "    while num > 0:\n",
    "        print(num)\n",
    "        num -= 1\n"
   ]
  },
  {
   "cell_type": "code",
   "execution_count": null,
   "id": "9f782999",
   "metadata": {},
   "outputs": [],
   "source": []
  }
 ],
 "metadata": {
  "kernelspec": {
   "display_name": "base",
   "language": "python",
   "name": "python3"
  },
  "language_info": {
   "codemirror_mode": {
    "name": "ipython",
    "version": 3
   },
   "file_extension": ".py",
   "mimetype": "text/x-python",
   "name": "python",
   "nbconvert_exporter": "python",
   "pygments_lexer": "ipython3",
   "version": "3.12.7"
  }
 },
 "nbformat": 4,
 "nbformat_minor": 5
}
